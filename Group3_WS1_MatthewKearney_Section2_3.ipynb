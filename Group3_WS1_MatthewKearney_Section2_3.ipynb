{
 "cells": [
  {
   "cell_type": "markdown",
   "metadata": {},
   "source": [
    "## Matthew Kearney - Final Project - Group 3 \n",
    "\n",
    "### SECTION3 : Train Model-Stacking Method\n"
   ]
  },
  {
   "cell_type": "markdown",
   "metadata": {},
   "source": [
    "imports"
   ]
  },
  {
   "cell_type": "code",
   "execution_count": 1,
   "metadata": {},
   "outputs": [],
   "source": [
    "import pandas as pd\n",
    "import numpy as np\n",
    "from sklearn.neighbors import KNeighborsClassifier\n",
    "from sklearn.ensemble import RandomForestClassifier\n",
    "from sklearn.ensemble import GradientBoostingClassifier\n",
    "from sklearn.metrics import accuracy_score\n",
    "from sklearn.metrics import confusion_matrix\n",
    "from sklearn.linear_model import LogisticRegression\n"
   ]
  },
  {
   "cell_type": "code",
   "execution_count": 2,
   "metadata": {},
   "outputs": [],
   "source": [
    "df = pd.read_csv('Section1&2(Clusters).csv')"
   ]
  },
  {
   "cell_type": "markdown",
   "metadata": {},
   "source": [
    "Splitting the data"
   ]
  },
  {
   "cell_type": "code",
   "execution_count": 3,
   "metadata": {},
   "outputs": [],
   "source": [
    "X = df.iloc[:,:-3]\n",
    "y = df.iloc[:,-2]"
   ]
  },
  {
   "cell_type": "code",
   "execution_count": 4,
   "metadata": {},
   "outputs": [
    {
     "name": "stdout",
     "output_type": "stream",
     "text": [
      "Cluster 4 size: 702 \n",
      "\tNumber bankrupt:  137 \n",
      "Cluster 5 size 1215 \n",
      "\tNumber bankrupt:  0\n"
     ]
    }
   ],
   "source": [
    "X4 = X[df.iloc[:,-1] == 4] \n",
    "X5 = X[df.iloc[:,-1] == 5]\n",
    "\n",
    "y4 = y[df.iloc[:,-1] == 4]\n",
    "y5 = y[df.iloc[:,-1] == 5]\n",
    "\n",
    "\n",
    "print(\"Cluster 4 size:\", len(X4), \"\\n\\tNumber bankrupt: \", y4.sum(), \"\\nCluster 5 size\", len(X5), \"\\n\\tNumber bankrupt: \", y5.sum())"
   ]
  },
  {
   "cell_type": "markdown",
   "metadata": {},
   "source": [
    "# Cluster 4"
   ]
  },
  {
   "cell_type": "markdown",
   "metadata": {},
   "source": [
    "### KNN model"
   ]
  },
  {
   "cell_type": "markdown",
   "metadata": {},
   "source": [
    "Any number of neighbors (reasonably high) produces high accuracy. Distance weighting should also be used opposed to uniform. Uniform weights will not be able to place importance by the closeness of points to its neighbors, and thus is generally regarded as less strong. This produces our accuracy up to 1.0"
   ]
  },
  {
   "cell_type": "code",
   "execution_count": 5,
   "metadata": {},
   "outputs": [
    {
     "name": "stdout",
     "output_type": "stream",
     "text": [
      "1.0\n",
      "[[565   0]\n",
      " [  0 137]]\n"
     ]
    }
   ],
   "source": [
    "knn = KNeighborsClassifier(n_neighbors=5, weights='distance')  # n_neighbors and weights\n",
    "knn.fit(X4, y4)\n",
    "knn_pred = knn.predict(X4)\n",
    "knn_accuracy = accuracy_score(y4, knn_pred)\n",
    "knn_conf = confusion_matrix(y4, knn_pred )\n",
    "\n",
    "print(f\"{knn_accuracy}\")\n",
    "print(f\"{knn_conf}\")"
   ]
  },
  {
   "cell_type": "markdown",
   "metadata": {},
   "source": [
    "KNN: <br>\n",
    "TT / (TT + TF) = 0.8048433"
   ]
  },
  {
   "cell_type": "markdown",
   "metadata": {},
   "source": [
    "### Random Forest Classification"
   ]
  },
  {
   "cell_type": "markdown",
   "metadata": {},
   "source": [
    "Using 64-128 decision trees is typically suggested, but 'max_depth' was found as a more useful hyperparameter to tune which we increased to 12 and reached 100% classification accuracy."
   ]
  },
  {
   "cell_type": "code",
   "execution_count": 6,
   "metadata": {},
   "outputs": [
    {
     "name": "stdout",
     "output_type": "stream",
     "text": [
      "1.0\n",
      "[[565   0]\n",
      " [  0 137]]\n"
     ]
    }
   ],
   "source": [
    "rf = RandomForestClassifier(n_estimators=64, max_depth=12, random_state=42)  # number of trees and maximum depth\n",
    "rf.fit(X4, y4)\n",
    "rf_pred = rf.predict(X4)\n",
    "rf_accuracy = accuracy_score(y4, rf_pred)\n",
    "rf_conf = confusion_matrix(y4, rf_pred )\n",
    "\n",
    "print(f\"{rf_accuracy}\")\n",
    "print(f\"{rf_conf}\")"
   ]
  },
  {
   "cell_type": "markdown",
   "metadata": {},
   "source": [
    "RF: <br>\n",
    "TT / (TT + TF) = 0.8048433"
   ]
  },
  {
   "cell_type": "markdown",
   "metadata": {},
   "source": [
    "### Gradient Boosting"
   ]
  },
  {
   "cell_type": "markdown",
   "metadata": {},
   "source": [
    "Max depth at 5 allows for full accuracy with gradient boosting and the learning rate is found at 0.1 as a solid tradeoff in overfit-underfit. Number of trees should be relatively high to achieve high accuracy."
   ]
  },
  {
   "cell_type": "code",
   "execution_count": 7,
   "metadata": {},
   "outputs": [
    {
     "name": "stdout",
     "output_type": "stream",
     "text": [
      "1.0\n",
      "[[565   0]\n",
      " [  0 137]]\n"
     ]
    }
   ],
   "source": [
    "gb = GradientBoostingClassifier(n_estimators=100, learning_rate=0.1, max_depth=5, random_state=42)  # number of trees, learning rate, and maximum depth\n",
    "gb.fit(X4, y4)\n",
    "gb_pred = gb.predict(X4)\n",
    "gb_accuracy = accuracy_score(y4, gb_pred)\n",
    "gb_conf = confusion_matrix(y4, gb_pred )\n",
    "\n",
    "print(f\"{gb_accuracy}\")\n",
    "print(f\"{gb_conf}\")"
   ]
  },
  {
   "cell_type": "markdown",
   "metadata": {},
   "source": [
    "GB: <br>\n",
    "TT / (TT + TF) = 0.8048433"
   ]
  },
  {
   "cell_type": "markdown",
   "metadata": {},
   "source": [
    "Using the same clusters results in the same confusion matrix as we get 100% accuracy"
   ]
  },
  {
   "cell_type": "markdown",
   "metadata": {},
   "source": [
    "Let's store the newly obtained data"
   ]
  },
  {
   "cell_type": "code",
   "execution_count": 8,
   "metadata": {},
   "outputs": [
    {
     "name": "stdout",
     "output_type": "stream",
     "text": [
      "Meta learner Confusion Matrix:\n",
      " [[565   0]\n",
      " [  0 137]]\n",
      "Meta learner Accuracy:\n",
      " 1.0\n"
     ]
    }
   ],
   "source": [
    "df4 = pd.DataFrame()\n",
    "df4['knn']=knn_pred\n",
    "df4['rf']=rf_pred\n",
    "df4['gb']=gb_pred\n",
    "\n",
    "meta_learner = LogisticRegression(class_weight='balanced', random_state=42)\n",
    "meta_learner.fit(df4, y4)\n",
    "meta_learner_pred = meta_learner.predict(df4)\n",
    "\n",
    "meta_learner_cm = confusion_matrix(y4, meta_learner_pred)\n",
    "print(\"Meta learner Confusion Matrix:\\n\",meta_learner_cm)\n",
    "accuracy_score_meta = accuracy_score(y4, meta_learner_pred)\n",
    "print(\"Meta learner Accuracy:\\n\", accuracy_score_meta)"
   ]
  },
  {
   "cell_type": "markdown",
   "metadata": {},
   "source": [
    "We have accurately classified 137 bankrupt companies and 565 non-bankrupt companies."
   ]
  },
  {
   "cell_type": "code",
   "execution_count": 9,
   "metadata": {},
   "outputs": [],
   "source": [
    "# # Save the meta learner\n",
    "# from joblib import dump\n",
    "# dump(meta_learner, 'meta_learner1.joblib')"
   ]
  },
  {
   "cell_type": "markdown",
   "metadata": {},
   "source": [
    "# Cluster 5"
   ]
  },
  {
   "cell_type": "markdown",
   "metadata": {},
   "source": [
    "### KNN"
   ]
  },
  {
   "cell_type": "code",
   "execution_count": 10,
   "metadata": {},
   "outputs": [
    {
     "name": "stdout",
     "output_type": "stream",
     "text": [
      "1.0\n",
      "[[1215]]\n"
     ]
    }
   ],
   "source": [
    "knn = KNeighborsClassifier(n_neighbors=5, weights='distance')  # n_neighbors and weights\n",
    "knn.fit(X5, y5)\n",
    "knn_pred = knn.predict(X5)\n",
    "knn_accuracy = accuracy_score(y5, knn_pred)\n",
    "knn_conf = confusion_matrix(y5, knn_pred )\n",
    "\n",
    "print(f\"{knn_accuracy}\")\n",
    "print(f\"{knn_conf}\")"
   ]
  },
  {
   "cell_type": "markdown",
   "metadata": {},
   "source": [
    "### Random Forest "
   ]
  },
  {
   "cell_type": "code",
   "execution_count": 11,
   "metadata": {},
   "outputs": [
    {
     "name": "stdout",
     "output_type": "stream",
     "text": [
      "1.0\n",
      "[[1215]]\n"
     ]
    }
   ],
   "source": [
    "rf = RandomForestClassifier(n_estimators=64, max_depth=12, random_state=42)  # number of trees and maximum depth\n",
    "rf.fit(X5, y5)\n",
    "rf_pred = rf.predict(X5)\n",
    "rf_accuracy = accuracy_score(y5, rf_pred)\n",
    "rf_conf = confusion_matrix(y5, rf_pred )\n",
    "\n",
    "print(f\"{rf_accuracy}\")\n",
    "print(f\"{rf_conf}\")"
   ]
  },
  {
   "cell_type": "markdown",
   "metadata": {},
   "source": [
    "### Multilayer Perceptron"
   ]
  },
  {
   "cell_type": "code",
   "execution_count": 12,
   "metadata": {},
   "outputs": [
    {
     "name": "stdout",
     "output_type": "stream",
     "text": [
      "1.0\n",
      "Confusion Matrix:\n",
      "[[1215]]\n"
     ]
    }
   ],
   "source": [
    "from sklearn.neural_network import MLPClassifier\n",
    "from sklearn.metrics import accuracy_score, confusion_matrix\n",
    "\n",
    "# MLP Classifier\n",
    "mlp = MLPClassifier(hidden_layer_sizes=(100,), activation='relu', solver='adam', alpha=0.0001, max_iter=1000, random_state=42)  # Set hidden layer sizes, activation function, solver, regularization parameter alpha, and maximum number of iterations\n",
    "mlp.fit(X5, y5)\n",
    "mlp_pred = mlp.predict(X5)\n",
    "mlp_accuracy = accuracy_score(y5, mlp_pred)\n",
    "mlp_conf = confusion_matrix(y5, mlp_pred)\n",
    "\n",
    "print(mlp_accuracy)\n",
    "print(\"Confusion Matrix:\")\n",
    "print(mlp_conf)\n"
   ]
  },
  {
   "cell_type": "markdown",
   "metadata": {},
   "source": [
    "There are no bankrupt companies in this cluster, so we can not attempt classification."
   ]
  },
  {
   "cell_type": "markdown",
   "metadata": {},
   "source": [
    "### SECTION4 : K_Fold Cross Validation on the Whole Dataset"
   ]
  },
  {
   "cell_type": "code",
   "execution_count": 13,
   "metadata": {},
   "outputs": [
    {
     "data": {
      "text/html": [
       "<div>\n",
       "<style scoped>\n",
       "    .dataframe tbody tr th:only-of-type {\n",
       "        vertical-align: middle;\n",
       "    }\n",
       "\n",
       "    .dataframe tbody tr th {\n",
       "        vertical-align: top;\n",
       "    }\n",
       "\n",
       "    .dataframe thead th {\n",
       "        text-align: right;\n",
       "    }\n",
       "</style>\n",
       "<table border=\"1\" class=\"dataframe\">\n",
       "  <thead>\n",
       "    <tr style=\"text-align: right;\">\n",
       "      <th></th>\n",
       "      <th>PC1</th>\n",
       "      <th>PC2</th>\n",
       "      <th>PC3</th>\n",
       "      <th>PC4</th>\n",
       "      <th>PC5</th>\n",
       "      <th>PC6</th>\n",
       "      <th>PC7</th>\n",
       "      <th>PC8</th>\n",
       "      <th>PC9</th>\n",
       "      <th>Cluster</th>\n",
       "      <th>Bankrupt?</th>\n",
       "      <th>Predicted_Cluster</th>\n",
       "    </tr>\n",
       "  </thead>\n",
       "  <tbody>\n",
       "    <tr>\n",
       "      <th>0</th>\n",
       "      <td>2.658210</td>\n",
       "      <td>-1.400730</td>\n",
       "      <td>-0.381088</td>\n",
       "      <td>0.452337</td>\n",
       "      <td>0.858035</td>\n",
       "      <td>-0.012784</td>\n",
       "      <td>-0.381166</td>\n",
       "      <td>0.117564</td>\n",
       "      <td>0.221323</td>\n",
       "      <td>1</td>\n",
       "      <td>0</td>\n",
       "      <td>1</td>\n",
       "    </tr>\n",
       "    <tr>\n",
       "      <th>1</th>\n",
       "      <td>-1.428676</td>\n",
       "      <td>0.461506</td>\n",
       "      <td>-1.030601</td>\n",
       "      <td>-0.234852</td>\n",
       "      <td>-0.029953</td>\n",
       "      <td>-0.033227</td>\n",
       "      <td>-0.566027</td>\n",
       "      <td>0.076135</td>\n",
       "      <td>0.440510</td>\n",
       "      <td>5</td>\n",
       "      <td>0</td>\n",
       "      <td>5</td>\n",
       "    </tr>\n",
       "    <tr>\n",
       "      <th>2</th>\n",
       "      <td>-2.775424</td>\n",
       "      <td>1.442919</td>\n",
       "      <td>-0.711948</td>\n",
       "      <td>0.144689</td>\n",
       "      <td>-0.152528</td>\n",
       "      <td>0.164080</td>\n",
       "      <td>0.258936</td>\n",
       "      <td>-0.555779</td>\n",
       "      <td>-0.286176</td>\n",
       "      <td>5</td>\n",
       "      <td>0</td>\n",
       "      <td>5</td>\n",
       "    </tr>\n",
       "    <tr>\n",
       "      <th>3</th>\n",
       "      <td>2.403655</td>\n",
       "      <td>4.045684</td>\n",
       "      <td>0.326334</td>\n",
       "      <td>-1.356795</td>\n",
       "      <td>-0.638412</td>\n",
       "      <td>-0.146502</td>\n",
       "      <td>-0.058012</td>\n",
       "      <td>0.546713</td>\n",
       "      <td>-0.348422</td>\n",
       "      <td>0</td>\n",
       "      <td>0</td>\n",
       "      <td>0</td>\n",
       "    </tr>\n",
       "    <tr>\n",
       "      <th>4</th>\n",
       "      <td>0.865429</td>\n",
       "      <td>0.283041</td>\n",
       "      <td>0.526507</td>\n",
       "      <td>-0.195726</td>\n",
       "      <td>-0.437119</td>\n",
       "      <td>-0.979682</td>\n",
       "      <td>-0.145639</td>\n",
       "      <td>-0.450059</td>\n",
       "      <td>0.824183</td>\n",
       "      <td>0</td>\n",
       "      <td>0</td>\n",
       "      <td>0</td>\n",
       "    </tr>\n",
       "  </tbody>\n",
       "</table>\n",
       "</div>"
      ],
      "text/plain": [
       "        PC1       PC2       PC3       PC4       PC5       PC6       PC7  \\\n",
       "0  2.658210 -1.400730 -0.381088  0.452337  0.858035 -0.012784 -0.381166   \n",
       "1 -1.428676  0.461506 -1.030601 -0.234852 -0.029953 -0.033227 -0.566027   \n",
       "2 -2.775424  1.442919 -0.711948  0.144689 -0.152528  0.164080  0.258936   \n",
       "3  2.403655  4.045684  0.326334 -1.356795 -0.638412 -0.146502 -0.058012   \n",
       "4  0.865429  0.283041  0.526507 -0.195726 -0.437119 -0.979682 -0.145639   \n",
       "\n",
       "        PC8       PC9  Cluster  Bankrupt?  Predicted_Cluster  \n",
       "0  0.117564  0.221323        1          0                  1  \n",
       "1  0.076135  0.440510        5          0                  5  \n",
       "2 -0.555779 -0.286176        5          0                  5  \n",
       "3  0.546713 -0.348422        0          0                  0  \n",
       "4 -0.450059  0.824183        0          0                  0  "
      ]
     },
     "execution_count": 13,
     "metadata": {},
     "output_type": "execute_result"
    }
   ],
   "source": [
    "df = pd.read_csv('Section1&2(Clusters).csv')\n",
    "df.head()"
   ]
  },
  {
   "cell_type": "code",
   "execution_count": 14,
   "metadata": {},
   "outputs": [],
   "source": [
    "X = df.iloc[:,0:9]\n",
    "y = df.iloc[:,10]  # ~ bankrupt  "
   ]
  },
  {
   "cell_type": "code",
   "execution_count": 15,
   "metadata": {},
   "outputs": [
    {
     "data": {
      "text/plain": [
       "0.0340967797485793"
      ]
     },
     "execution_count": 15,
     "metadata": {},
     "output_type": "execute_result"
    }
   ],
   "source": [
    "y.sum()/ len(y)"
   ]
  },
  {
   "cell_type": "markdown",
   "metadata": {},
   "source": [
    "Reminder to the proportion of our data that is bankrupt. K (K-folds/ n_splits) is set to 29 as m = 5807 / t = df[y].sum() = 198 is about 29"
   ]
  },
  {
   "cell_type": "code",
   "execution_count": 16,
   "metadata": {},
   "outputs": [
    {
     "name": "stdout",
     "output_type": "stream",
     "text": [
      "Cross Validation Scores:  [0.97512438 0.97014925 0.97014925 0.960199   0.95024876 0.9800995\n",
      " 0.95024876 0.98       0.96       0.955      0.97       0.965\n",
      " 0.965      0.94       0.975      0.99       0.945      0.975\n",
      " 0.97       0.99       0.97       0.96       0.965      0.96\n",
      " 0.95       0.98       0.965      0.975      0.965     ]\n",
      "Average CV Score:  0.9664213415680221\n",
      "Number of CV Scores used in Average:  29\n"
     ]
    }
   ],
   "source": [
    "from sklearn.model_selection import KFold, cross_val_score\n",
    "from sklearn.ensemble import RandomForestClassifier\n",
    "\n",
    "# clf = DecisionTreeClassifier(random_state=42)\n",
    "clf = RandomForestClassifier(n_estimators=64, random_state=42)\n",
    "\n",
    "k_folds = KFold(n_splits = 29)\n",
    "\n",
    "scores = cross_val_score(clf, X, y, cv = k_folds)\n",
    "\n",
    "print(\"Cross Validation Scores: \", scores)\n",
    "print(\"Average CV Score: \", scores.mean())\n",
    "print(\"Number of CV Scores used in Average: \", len(scores))"
   ]
  },
  {
   "cell_type": "markdown",
   "metadata": {},
   "source": [
    "We attain an average cross-validation score of 0.966 which is sufficient for model evaluation using k learning experiments."
   ]
  }
 ],
 "metadata": {
  "kernelspec": {
   "display_name": "base",
   "language": "python",
   "name": "python3"
  },
  "language_info": {
   "codemirror_mode": {
    "name": "ipython",
    "version": 3
   },
   "file_extension": ".py",
   "mimetype": "text/x-python",
   "name": "python",
   "nbconvert_exporter": "python",
   "pygments_lexer": "ipython3",
   "version": "3.11.5"
  }
 },
 "nbformat": 4,
 "nbformat_minor": 2
}
