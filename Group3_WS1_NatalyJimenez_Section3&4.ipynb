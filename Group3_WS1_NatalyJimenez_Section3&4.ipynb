{
 "cells": [
  {
   "cell_type": "code",
   "execution_count": 1,
   "id": "7690eb1b-384b-4116-bff3-9a7a2daf6120",
   "metadata": {},
   "outputs": [
    {
     "name": "stderr",
     "output_type": "stream",
     "text": [
      "C:\\Users\\natnj\\AppData\\Local\\Temp\\ipykernel_53576\\688675324.py:2: DeprecationWarning: \n",
      "Pyarrow will become a required dependency of pandas in the next major release of pandas (pandas 3.0),\n",
      "(to allow more performant data types, such as the Arrow string type, and better interoperability with other libraries)\n",
      "but was not found to be installed on your system.\n",
      "If this would cause problems for you,\n",
      "please provide us feedback at https://github.com/pandas-dev/pandas/issues/54466\n",
      "        \n",
      "  import pandas as pd\n"
     ]
    }
   ],
   "source": [
    "import numpy as np\n",
    "import pandas as pd\n",
    "from sklearn.model_selection import GridSearchCV\n",
    "from sklearn.model_selection import cross_val_score\n",
    "from sklearn.linear_model import LogisticRegression\n",
    "from sklearn.ensemble import RandomForestClassifier\n",
    "from sklearn.tree import DecisionTreeClassifier\n",
    "from sklearn.metrics import accuracy_score\n",
    "from sklearn.metrics import confusion_matrix"
   ]
  },
  {
   "cell_type": "markdown",
   "id": "3131f17b-e5d2-48b8-97ff-12f32d3b5baa",
   "metadata": {},
   "source": [
    "# 3 Train Model 1: Stacking Method"
   ]
  },
  {
   "cell_type": "code",
   "execution_count": 2,
   "id": "810cafb7-dd24-4490-b296-2ab9328ea56e",
   "metadata": {},
   "outputs": [],
   "source": [
    "df = pd.read_csv('Section1&2(Clusters).csv')\n",
    "df.head() # presenting length of train data "
   ]
  },
  {
   "cell_type": "code",
   "execution_count": 3,
   "id": "616a8754-98cb-4625-bfb3-15c3eba1d933",
   "metadata": {},
   "outputs": [],
   "source": [
    "X = df.iloc[:,:-3]\n",
    "y = df.iloc[:,-2]\n",
    "X_2 = X[df.iloc[:,-1] == 2] \n",
    "y_2 = y[df.iloc[:,-1] == 2]"
   ]
  },
  {
   "cell_type": "code",
   "execution_count": 4,
   "id": "ad7f4c1b-7829-45ff-a540-4617495f56a4",
   "metadata": {},
   "outputs": [
    {
     "name": "stderr",
     "output_type": "stream",
     "text": [
      "C:\\Users\\natnj\\AppData\\Local\\Programs\\Python\\Python311\\Lib\\site-packages\\sklearn\\model_selection\\_split.py:737: UserWarning: The least populated class in y has only 3 members, which is less than n_splits=5.\n",
      "  warnings.warn(\n"
     ]
    },
    {
     "name": "stdout",
     "output_type": "stream",
     "text": [
      "Best parameters for Logistic Regression: {'C': 0.001, 'penalty': 'l1'}\n",
      "Best cross-validated score: 0.9976284584980238\n"
     ]
    }
   ],
   "source": [
    "# Set up the hyperparameter grid\n",
    "param_grid_lr = {\n",
    "    'C': [0.001, 0.01, 0.1, 1, 10, 100],  # Regularization strength\n",
    "    'penalty': ['l1', 'l2']               # Types of penalty\n",
    "}\n",
    "\n",
    "# Create GridSearchCV object\n",
    "grid_lr = GridSearchCV(LogisticRegression(solver='liblinear', random_state=42), \n",
    "                       param_grid_lr, cv=5, scoring='accuracy')\n",
    "\n",
    "# Fit GridSearchCV\n",
    "grid_lr.fit(X_2, y_2)\n",
    "print(\"Best parameters for Logistic Regression:\", grid_lr.best_params_)\n",
    "print(\"Best cross-validated score:\", grid_lr.best_score_)\n"
   ]
  },
  {
   "cell_type": "code",
   "execution_count": 5,
   "id": "44beb2da-4581-4963-b7ed-b552b17f76a3",
   "metadata": {},
   "outputs": [
    {
     "name": "stderr",
     "output_type": "stream",
     "text": [
      "C:\\Users\\natnj\\AppData\\Local\\Programs\\Python\\Python311\\Lib\\site-packages\\sklearn\\model_selection\\_split.py:737: UserWarning: The least populated class in y has only 3 members, which is less than n_splits=5.\n",
      "  warnings.warn(\n"
     ]
    },
    {
     "name": "stdout",
     "output_type": "stream",
     "text": [
      "Best parameters for SVM: {'C': 0.1, 'gamma': 0.001, 'kernel': 'rbf'}\n",
      "Best cross-validated score: 0.9976284584980238\n"
     ]
    }
   ],
   "source": [
    "param_grid_svm = {\n",
    "    'C': [0.1, 1, 10, 100],\n",
    "    'gamma': [0.001, 0.01, 0.1, 1, 'scale'],  # Kernel coefficient\n",
    "    'kernel': ['rbf', 'poly', 'sigmoid']      # Type of kernel\n",
    "}\n",
    "\n",
    "grid_svm = GridSearchCV(SVC(random_state=42), param_grid_svm, cv=5, scoring='accuracy')\n",
    "grid_svm.fit(X_2, y_2)\n",
    "print(\"Best parameters for SVM:\", grid_svm.best_params_)\n",
    "print(\"Best cross-validated score:\", grid_svm.best_score_)\n"
   ]
  },
  {
   "cell_type": "code",
   "execution_count": 6,
   "id": "4c119311-de5e-4353-a460-cd301c412016",
   "metadata": {},
   "outputs": [
    {
     "name": "stdout",
     "output_type": "stream",
     "text": [
      "Logistic Regression confusion matrix:\n",
      " [[1254    8]\n",
      " [   3    0]]\n",
      "SVM confusion matrix:\n",
      " [[1262    0]\n",
      " [   3    0]]\n",
      "RandomForest confusion matrix:\n",
      " [[1262    0]\n",
      " [   0    3]]\n"
     ]
    }
   ],
   "source": [
    "# Set up models with the best parameters found from GridSearchCV\n",
    "models = {\n",
    "    'Logistic': LogisticRegression(solver='liblinear', C=0.001, penalty='l1', random_state=42),\n",
    "    'SVM': SVC(C=0.1, gamma=0.001, kernel='rbf', random_state=42),\n",
    "    'RandomForest': RandomForestClassifier(random_state=42) \n",
    "}\n",
    "\n",
    "# Fit models\n",
    "model_2_1 = models['Logistic'].fit(X_2, y_2)\n",
    "model_2_2 = models['SVM'].fit(X_2, y_2)\n",
    "model_2_3 = models['RandomForest'].fit(X_2, y_2)\n",
    "\n",
    "# Predict\n",
    "LR_pred_2 = model_2_1.predict(X_2)\n",
    "SVM_pred_2 = model_2_2.predict(X_2)\n",
    "RF_pred_2 = model_2_3.predict(X_2)\n",
    "\n",
    "# Confusion matrices\n",
    "print(\"Logistic Regression confusion matrix:\\n\", confusion_matrix(y_2, LR_pred_2))\n",
    "print(\"SVM confusion matrix:\\n\", confusion_matrix(y_2, SVM_pred_2))\n",
    "print(\"RandomForest confusion matrix:\\n\", confusion_matrix(y_2, RF_pred_2))"
   ]
  },
  {
   "cell_type": "code",
   "execution_count": 7,
   "id": "a96297b7-ca79-4698-9bbf-56f746fbfa74",
   "metadata": {},
   "outputs": [
    {
     "name": "stdout",
     "output_type": "stream",
     "text": [
      "Meta learner Classification report:\n",
      "               precision    recall  f1-score   support\n",
      "\n",
      "           0       1.00      1.00      1.00      1262\n",
      "           1       1.00      1.00      1.00         3\n",
      "\n",
      "    accuracy                           1.00      1265\n",
      "   macro avg       1.00      1.00      1.00      1265\n",
      "weighted avg       1.00      1.00      1.00      1265\n",
      "\n",
      "Meta learner Confusion Matrix:\n",
      " [[1262    0]\n",
      " [   0    3]]\n",
      "Meta learner Accuracy:\n",
      " 1.0\n"
     ]
    }
   ],
   "source": [
    "X_Stack_2 = pd.DataFrame()\n",
    "X_Stack_2['RF'] = RF_pred_2\n",
    "X_Stack_2['SVM'] = SVM_pred_2\n",
    "X_Stack_2['LR'] = LR_pred_2\n",
    "\n",
    "meta_learner = LogisticRegression(class_weight='balanced', random_state=42)\n",
    "meta_learner.fit(X_Stack_2, y_2)\n",
    "\n",
    "meta_learner_pred = meta_learner.predict(X_Stack_2)\n",
    "meta_learner_classification_report = classification_report(y_2, meta_learner_pred)\n",
    "print(\"Meta learner Classification report:\\n\",meta_learner_classification_report)\n",
    "meta_learner_cm = confusion_matrix(y_2, meta_learner_pred)\n",
    "print(\"Meta learner Confusion Matrix:\\n\",meta_learner_cm)\n",
    "accuracy_score_meta2 = accuracy_score(y_2, meta_learner_pred)\n",
    "print(\"Meta learner Accuracy:\\n\", accuracy_score_meta2)"
   ]
  },
  {
   "cell_type": "markdown",
   "id": "f2d76a6b-4f9c-4aad-9e60-ac07f1be1af9",
   "metadata": {},
   "source": [
    "# 4 Train Model 2: k-fold Cross Validation"
   ]
  },
  {
   "cell_type": "code",
   "execution_count": 22,
   "id": "cb352a43-aec1-407c-9bd2-2a84bad2b510",
   "metadata": {},
   "outputs": [
    {
     "name": "stdout",
     "output_type": "stream",
     "text": [
      "Cross-validation scores: [0.9672977624784854, 0.9621342512908778, 0.9655765920826161, 0.9672977624784854, 0.9707401032702238, 0.963855421686747, 0.9672977624784854, 0.9637931034482758, 0.9724137931034482, 0.9724137931034482]\n",
      "Average cross-validation score: 0.97\n",
      "Combined Confusion Matrix:\n",
      " [[5576   33]\n",
      " [ 157   41]]\n"
     ]
    }
   ],
   "source": [
    "from sklearn.model_selection import StratifiedKFold\n",
    "from sklearn.ensemble import RandomForestClassifier\n",
    "from sklearn.metrics import accuracy_score, confusion_matrix\n",
    "\n",
    "X = df.iloc[:, 0:9]  # Features\n",
    "y = df.iloc[:, 10]    # Target\n",
    "\n",
    "# Random Forest classifier\n",
    "clf_group = RandomForestClassifier(n_estimators=100, random_state=42)  # Default settings\n",
    "\n",
    "# Setup cross-validation\n",
    "cv = StratifiedKFold(n_splits=10)\n",
    "scores = []\n",
    "conf_matrix_list = []\n",
    "\n",
    "# Perform cross-validation\n",
    "for train_index, test_index in cv.split(X, y):\n",
    "    X_train, X_test = X.iloc[train_index], X.iloc[test_index]\n",
    "    y_train, y_test = y.iloc[train_index], y.iloc[test_index]\n",
    "    \n",
    "    # Fit the model\n",
    "    clf_group.fit(X_train, y_train)\n",
    "    \n",
    "    # Predict on test data\n",
    "    y_pred = clf_group.predict(X_test)\n",
    "    \n",
    "    # Accuracy score for this fold\n",
    "    score = accuracy_score(y_test, y_pred)\n",
    "    scores.append(score)\n",
    "    \n",
    "    # Compute confusion matrix for this fold\n",
    "    conf_matrix = confusion_matrix(y_test, y_pred)\n",
    "    conf_matrix_list.append(conf_matrix)\n",
    "\n",
    "# Output the results\n",
    "print(\"Cross-validation scores:\", scores)\n",
    "print(\"Average cross-validation score: {:.2f}\".format(np.mean(scores)))\n",
    "\n",
    "# Combine the confusion matrices from each fold\n",
    "combined_conf_matrix = np.sum(conf_matrix_list, axis=0)\n",
    "print(\"Combined Confusion Matrix:\\n\", combined_conf_matrix)\n"
   ]
  }
 ],
 "metadata": {
  "kernelspec": {
   "display_name": "Python 3 (ipykernel)",
   "language": "python",
   "name": "python3"
  },
  "language_info": {
   "codemirror_mode": {
    "name": "ipython",
    "version": 3
   },
   "file_extension": ".py",
   "mimetype": "text/x-python",
   "name": "python",
   "nbconvert_exporter": "python",
   "pygments_lexer": "ipython3",
   "version": "3.11.5"
  }
 },
 "nbformat": 4,
 "nbformat_minor": 5
}
